{
 "cells": [
  {
   "cell_type": "markdown",
   "metadata": {},
   "source": [
    "About TensorFlow and Deep Learning:-\n",
    "\n",
    "**TensorFlow:** A Python library that is used for modelling/implementation of deep learning models/networks. TensorFlow = Tensors + Flow. Tensor corresponds to the way data is represented in this library and Flow depicts the flow of these Tensors through the <i>computation graph</i>.\n",
    "\n",
    "A <i>computation graph</i> is series of TensorFlow operations arranged into a graph of nodes.\n",
    "\n",
    "**Tensors**: The standard way of representing data in TensorFlow. Tensors are nothing but multidimensional arrays, an extension of matrices (2D tables) to data with higher dimensions.\n",
    "\n",
    "Note: Only tensors may be passed between nodes in a computation graph.\n",
    "\n",
    "<ul>\n",
    "\n",
    "<li> Dimensionality is measured as **Ranks**:-\n",
    "\n",
    "<ol>\n",
    "    \n",
    "   <li> Rank 0 -> a Scalar, example: s = 482\n",
    "\n",
    "   <li> Rank 1 -> a Vector, example: v = [1, 2, 3]\n",
    "\n",
    "   <li> Rank 2 -> a Matrix, example: m = [[1,5,6], [2,5,6], [3,5,6]]\n",
    "\n",
    "   <li> Rank 3 -> a 3-Tesor or a cube holding some data, example: t = [[[1,5,6], [2,5,6], [3,5,6]], [[1,5,6], [2,5,6], [3,5,6]], [[1,5,6], [2,5,6], [3,5,6]]]\n",
    "    \n",
    "</ol>\n",
    "\n",
    "    ...\n",
    "\n",
    "   ** Rank n -> n-Tensor **\n",
    "\n",
    "<li> Tensor Data Types:- \n",
    "\n",
    "Tensorflow automattically assigns the correct data type. If you want to specifically assign the data type in order to save memory or do some other operation, it is possible.\n",
    "\n",
    "<ol>\n",
    "  \n",
    "   <li> DT_FLOAT -> tf.float32\n",
    "    \n",
    "   <li> DT_DOUBLE-> tf.float64\n",
    "    \n",
    "   <li> DT_INT8 -> tf.int8\n",
    "\n",
    "   <li> DT_UINT8 -> tf.uint8\n",
    "    \n",
    "   ...\n",
    "    \n",
    "   <li> DT_INT64 -> tf.int64\n",
    "    \n",
    "   <li> DT_STRING -> tf.string\n",
    "    \n",
    "   <li> DT_BOOL -> tf.bool\n",
    "    \n",
    "</ol>\n",
    "    "
   ]
  },
  {
   "cell_type": "markdown",
   "metadata": {},
   "source": [
    "**TensorFlow Coding structure**\n",
    "\n",
    "It consists of two sections in particular:-\n",
    "\n",
    "<ul>\n",
    "    <li> Building a computation graph.\n",
    "    <li> Running the computation graph.\n",
    "        "
   ]
  },
  {
   "cell_type": "markdown",
   "metadata": {},
   "source": [
    "**1** - Building a graph"
   ]
  },
  {
   "cell_type": "code",
   "execution_count": 27,
   "metadata": {},
   "outputs": [
    {
     "name": "stdout",
     "output_type": "stream",
     "text": [
      "Tensor(\"Const_10:0\", shape=(), dtype=float32) Tensor(\"Const_11:0\", shape=(), dtype=float32) Tensor(\"mul_5:0\", shape=(), dtype=float32)\n"
     ]
    }
   ],
   "source": [
    "# Import the TensorFlow library\n",
    "import tensorflow as tf\n",
    "import numpy as np\n",
    "\n",
    "# Defining two constant nodes\n",
    "aNode = tf.constant(5.0)\n",
    "bNode = tf.constant(1.9, tf.float32)\n",
    "\n",
    "cNode = aNode*bNode;\n",
    "\n",
    "# At this point, they are just abstract Tensors and not actual calculations are running.\n",
    "# Only operations are created.\n",
    "print (aNode, bNode, cNode)"
   ]
  },
  {
   "cell_type": "markdown",
   "metadata": {},
   "source": [
    "**2** - Running a graph"
   ]
  },
  {
   "cell_type": "code",
   "execution_count": 28,
   "metadata": {},
   "outputs": [
    {
     "name": "stdout",
     "output_type": "stream",
     "text": [
      "[5.0, 1.9]\n",
      "9.5\n"
     ]
    }
   ],
   "source": [
    "# To execute the graph, we run it inside a session\n",
    "# A session places graph operations onto devices such as CPU/GPU.\n",
    "\n",
    "''' Method 1 '''\n",
    "\n",
    "aSession = tf.Session()\n",
    "\n",
    "print (aSession.run([aNode, bNode]))\n",
    "# You need to close a session in order to free up the resources it used.\n",
    "aSession.close()\n",
    "\n",
    "''' Method 2 '''\n",
    "\n",
    "with tf.Session() as bSession:\n",
    "    # You just need to run the output Tensor\n",
    "    output = bSession.run(cNode)\n",
    "    print (output)\n",
    "bSession.close()"
   ]
  },
  {
   "cell_type": "markdown",
   "metadata": {},
   "source": [
    "**Visualizing TensorFlow: TensorBoard**\n",
    "\n",
    "TensorBoard is a suite of web-applications for understanding your Tensor graphs.\n",
    "\n",
    "The most convinient way to do this is using FileWriter by:     "
   ]
  },
  {
   "cell_type": "code",
   "execution_count": 29,
   "metadata": {},
   "outputs": [],
   "source": [
    "aNode = tf.constant(5.0)\n",
    "bNode = tf.constant(1.9, tf.float32)\n",
    "cNode = aNode*bNode;\n",
    "\n",
    "with tf.Session() as bSession:\n",
    "    output = bSession.run(cNode)    \n",
    "    # Give the first argument as a path and the second as the graph of the session\n",
    "    aFileWriter = tf.summary.FileWriter('aSimpleGraph', aSession.graph)\n",
    "bSession.close()"
   ]
  },
  {
   "cell_type": "markdown",
   "metadata": {},
   "source": [
    "After writing the log, go to the directory in your command line and type:\n",
    "\n",
    "   ** tensorboad --logdir=\"TensorFlow\" **\n",
    "   \n",
    "It will say that the TensorBoard runs at http://localhost:6006/\n",
    "\n"
   ]
  },
  {
   "cell_type": "markdown",
   "metadata": {},
   "source": [
    "You have been seeing constant nodes in the previous examples. Let us dig deeper into them and other nodes in TensorFlow\n",
    "\n",
    "**1. Constants**: As the name suggests, they have hardcoded values and take in no inputs. All they do is output this internal value in an active session."
   ]
  },
  {
   "cell_type": "markdown",
   "metadata": {},
   "source": [
    "2.**Placeholders**: These nodes are able to take in external input, assuming that they will be provided one at runtime."
   ]
  },
  {
   "cell_type": "code",
   "execution_count": 41,
   "metadata": {},
   "outputs": [
    {
     "name": "stdout",
     "output_type": "stream",
     "text": [
      "A:  [[0.33851311 0.31989856]] \n",
      "B:  [[0.17964821 0.36697125]] \n",
      "A+B:  [[0.5181613  0.68686986]]\n"
     ]
    }
   ],
   "source": [
    "aNode = tf.placeholder(tf.float32)\n",
    "bNode = tf.placeholder(tf.float32)\n",
    "\n",
    "summedNode = aNode + bNode;\n",
    "# You can also use the in-build TensorFlow operations\n",
    "# summedNode = tf.add(aNode, bNode);\n",
    "\n",
    "with tf.Session() as aSession:\n",
    "    # ERROR: will fail because placeholder was not fed.\n",
    "    #output = aSession.run(summedNode);\n",
    "\n",
    "    # This will succeed.\n",
    "    randArrayA = np.random.rand(1, 2)\n",
    "    randArrayB = np.random.rand(1, 2)\n",
    "    output = aSession.run(summedNode, feed_dict={aNode: randArrayA, bNode: randArrayB});\n",
    "    print (\"A: \",randArrayA, \"\\nB: \", randArrayB, \"\\nA+B: \",output)\n",
    "aSession.close()"
   ]
  },
  {
   "cell_type": "code",
   "execution_count": null,
   "metadata": {},
   "outputs": [],
   "source": []
  },
  {
   "cell_type": "code",
   "execution_count": null,
   "metadata": {},
   "outputs": [],
   "source": []
  }
 ],
 "metadata": {
  "kernelspec": {
   "display_name": "Python 3",
   "language": "python",
   "name": "python3"
  },
  "language_info": {
   "codemirror_mode": {
    "name": "ipython",
    "version": 3
   },
   "file_extension": ".py",
   "mimetype": "text/x-python",
   "name": "python",
   "nbconvert_exporter": "python",
   "pygments_lexer": "ipython3",
   "version": "3.6.5"
  }
 },
 "nbformat": 4,
 "nbformat_minor": 2
}
