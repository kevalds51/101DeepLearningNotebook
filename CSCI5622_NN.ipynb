{
 "cells": [
  {
   "cell_type": "markdown",
   "metadata": {},
   "source": [
    "About TensorFlow and Deep Learning:-\n",
    "\n",
    "**TensorFlow:** A Python library that is used for modelling/implementation of deep learning models/networks. TensorFlow = Tensors + Flow. Tensor corresponds to the way data is represented in this library and Flow depicts the flow of these Tensors through the <i>computation graph</i>.\n",
    "\n",
    "A <i>computation graph</i> is series of TensorFlow operations arranged into a graph of nodes.\n",
    "\n",
    "**Tensors**: The standard way of representing data in TensorFlow. Tensors are nothing but multidimensional arrays, an extension of matrices (2D tables) to data with higher dimensions.\n",
    "\n",
    "Note: Only tensors may be passed between nodes in a computation graph.\n",
    "\n",
    "<ul>\n",
    "\n",
    "<li> Dimensionality is measured as **Ranks**:-\n",
    "\n",
    "<ol>\n",
    "    \n",
    "   <li> Rank 0 -> a Scalar, example: s = 482\n",
    "\n",
    "   <li> Rank 1 -> a Vector, example: v = [1, 2, 3]\n",
    "\n",
    "   <li> Rank 2 -> a Matrix, example: m = [[1,5,6], [2,5,6], [3,5,6]]\n",
    "\n",
    "   <li> Rank 3 -> a 3-Tesor or a cube holding some data, example: t = [[[1,5,6], [2,5,6], [3,5,6]], [[1,5,6], [2,5,6], [3,5,6]], [[1,5,6], [2,5,6], [3,5,6]]]\n",
    "    \n",
    "</ol>\n",
    "\n",
    "    ...\n",
    "\n",
    "   ** Rank n -> n-Tensor **\n",
    "\n",
    "<li> Tensor Data Types:- \n",
    "\n",
    "Tensorflow automattically assigns the correct data type. If you want to specifically assign the data type in order to save memory or do some other operation, it is possible.\n",
    "\n",
    "<ol>\n",
    "  \n",
    "   <li> DT_FLOAT -> tf.float32\n",
    "    \n",
    "   <li> DT_DOUBLE-> tf.float64\n",
    "    \n",
    "   <li> DT_INT8 -> tf.int8\n",
    "\n",
    "   <li> DT_UINT8 -> tf.uint8\n",
    "    \n",
    "   ...\n",
    "    \n",
    "   <li> DT_INT64 -> tf.int64\n",
    "    \n",
    "   <li> DT_STRING -> tf.string\n",
    "    \n",
    "   <li> DT_BOOL -> tf.bool\n",
    "    \n",
    "</ol>\n",
    "    "
   ]
  },
  {
   "cell_type": "markdown",
   "metadata": {},
   "source": [
    "**TensorFlow Coding structure**\n",
    "\n",
    "It consists of two sections in particular:-\n",
    "\n",
    "<ul>\n",
    "    <li> Building a computation graph.\n",
    "    <li> Running the computation graph.\n",
    "        "
   ]
  },
  {
   "cell_type": "markdown",
   "metadata": {},
   "source": [
    "**1** - Building a graph"
   ]
  },
  {
   "cell_type": "code",
   "execution_count": 9,
   "metadata": {},
   "outputs": [
    {
     "name": "stdout",
     "output_type": "stream",
     "text": [
      "Tensor(\"Const_6:0\", shape=(), dtype=float32) Tensor(\"Const_7:0\", shape=(), dtype=float64)\n"
     ]
    }
   ],
   "source": [
    "# Import the TensorFlow library\n",
    "import tensorflow as tf\n",
    "\n",
    "# Defining two constant nodes\n",
    "aNode = tf.constant(5.0)\n",
    "bNode = tf.constant(1.9, tf.float64)\n",
    "\n",
    "print (aNode, bNode)"
   ]
  },
  {
   "cell_type": "markdown",
   "metadata": {},
   "source": [
    "**2** - Running a graph"
   ]
  },
  {
   "cell_type": "code",
   "execution_count": 11,
   "metadata": {},
   "outputs": [
    {
     "name": "stdout",
     "output_type": "stream",
     "text": [
      "[5.0, 1.9]\n"
     ]
    }
   ],
   "source": [
    "aSession = tf.Session()\n",
    "print (aSession.run([aNode, bNode]))"
   ]
  },
  {
   "cell_type": "code",
   "execution_count": null,
   "metadata": {},
   "outputs": [],
   "source": []
  }
 ],
 "metadata": {
  "kernelspec": {
   "display_name": "Python 3",
   "language": "python",
   "name": "python3"
  },
  "language_info": {
   "codemirror_mode": {
    "name": "ipython",
    "version": 3
   },
   "file_extension": ".py",
   "mimetype": "text/x-python",
   "name": "python",
   "nbconvert_exporter": "python",
   "pygments_lexer": "ipython3",
   "version": "3.6.5"
  }
 },
 "nbformat": 4,
 "nbformat_minor": 2
}
